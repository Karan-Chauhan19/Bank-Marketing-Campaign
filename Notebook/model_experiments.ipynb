{
 "cells": [
  {
   "cell_type": "code",
   "execution_count": null,
   "metadata": {},
   "outputs": [],
   "source": [
    "#For find correlation of columns with each other.. first of all i will handle categorical column using onehotencoder and normalize numerical \n",
    "# data\n",
    "import pandas as pd\n",
    "import numpy as np\n",
    "from sklearn.preprocessing import StandardScaler,OneHotEncoder,LabelEncoder\n",
    "from sklearn.compose import ColumnTransformer\n",
    "from sklearn.pipeline import Pipeline\n",
    "from notebook import *\n",
    "\n",
    "df = pd.read_csv('/home/karan-chauhan/WorkStation/Project/Bank-Marketing-Campaign/Data/bank.csv')\n",
    "df = df.rename(columns={'y':'deposit','housing':'house_loan','loan':'personal_loan','previous':'pre_campaign'})\n",
    "df.drop_duplicates(inplace=True)\n",
    "\n",
    "\n",
    "# Define columns for preprocessing\n",
    "categorical_column_ohe = ['job','marital','education','contact','poutcome','month','default','house_loan','personal_loan']\n",
    "numerical_column = ['age','balance','day','duration','campaign','pdays','pre_campaign']\n",
    "\n",
    "# Create a copy of the DataFrame before preprocessing to avoid in-place modifications\n",
    "df_processed = df.copy()  \n",
    "\n",
    "# Apply LabelEncoder to the target variable in the copied DataFrame\n",
    "le = LabelEncoder()\n",
    "df_processed['deposit'] = le.fit_transform(df_processed['deposit']) \n",
    "\n",
    "# Create the preprocessing pipeline\n",
    "preprocessor = ColumnTransformer(transformers=[\n",
    "    ('trf1',OneHotEncoder(sparse_output=False, handle_unknown='ignore', drop='first'), categorical_column_ohe), # Added sparse=False\n",
    "    ('trf2',StandardScaler(), numerical_column)\n",
    "])\n",
    "\n",
    "# Create the pipeline\n",
    "model_pipeline = Pipeline(steps=[\n",
    "    ('preprocessor', preprocessor)\n",
    "])\n",
    "\n",
    "# Fit and transform the data using the copied DataFrame\n",
    "X = model_pipeline.fit_transform(df_processed.drop(columns=['deposit']))\n",
    "\n",
    "# Get feature names\n",
    "categorical_feature_names = model_pipeline.named_steps['preprocessor'].named_transformers_['trf1'].get_feature_names_out(categorical_column_ohe)\n",
    "numerical_feature_names = model_pipeline.named_steps['preprocessor'].named_transformers_['trf2'].get_feature_names_out(numerical_column)\n",
    "all_feature_names =  list(categorical_feature_names) + list(numerical_feature_names) \n",
    "\n",
    "# Create the transformed DataFrame\n",
    "X_transformed = pd.DataFrame(X, columns=all_feature_names)\n",
    "X_transformed['deposit'] = df_processed['deposit']"
   ]
  },
  {
   "cell_type": "code",
   "execution_count": 5,
   "metadata": {},
   "outputs": [],
   "source": [
    "correlation_matrix = X_transformed.corr()"
   ]
  },
  {
   "cell_type": "code",
   "execution_count": 6,
   "metadata": {},
   "outputs": [],
   "source": [
    "correlation_with_target = correlation_matrix['deposit']"
   ]
  },
  {
   "cell_type": "code",
   "execution_count": 7,
   "metadata": {},
   "outputs": [
    {
     "data": {
      "text/plain": [
       "job_blue-collar       -0.072083\n",
       "job_entrepreneur      -0.019662\n",
       "job_housemaid         -0.015195\n",
       "job_management         0.032919\n",
       "job_retired            0.079245\n",
       "job_self-employed      0.000855\n",
       "job_services          -0.027864\n",
       "job_student            0.076897\n",
       "job_technician        -0.008970\n",
       "job_unemployed         0.020390\n",
       "job_unknown            0.000267\n",
       "marital_married       -0.060260\n",
       "marital_single         0.063526\n",
       "education_secondary   -0.036388\n",
       "education_tertiary     0.066448\n",
       "education_unknown      0.012053\n",
       "contact_telephone      0.014042\n",
       "contact_unknown       -0.150935\n",
       "poutcome_other         0.031955\n",
       "poutcome_success       0.306788\n",
       "poutcome_unknown      -0.167051\n",
       "month_aug             -0.008536\n",
       "month_dec              0.075164\n",
       "month_feb              0.038417\n",
       "month_jan             -0.008783\n",
       "month_jul             -0.034382\n",
       "month_jun             -0.016805\n",
       "month_mar              0.129456\n",
       "month_may             -0.102500\n",
       "month_nov             -0.014937\n",
       "month_oct              0.128531\n",
       "month_sep              0.123185\n",
       "default_yes           -0.022419\n",
       "house_loan_yes        -0.139173\n",
       "personal_loan_yes     -0.068185\n",
       "age                    0.025155\n",
       "balance                0.052838\n",
       "day                   -0.028348\n",
       "duration               0.394521\n",
       "campaign              -0.073172\n",
       "pdays                  0.103621\n",
       "pre_campaign           0.093236\n",
       "deposit                1.000000\n",
       "Name: deposit, dtype: float64"
      ]
     },
     "execution_count": 7,
     "metadata": {},
     "output_type": "execute_result"
    }
   ],
   "source": [
    "correlation_with_target"
   ]
  },
  {
   "cell_type": "markdown",
   "metadata": {},
   "source": [
    "Seeing this i can drop balance,age,day and default column"
   ]
  }
 ],
 "metadata": {
  "kernelspec": {
   "display_name": "env_global",
   "language": "python",
   "name": "python3"
  },
  "language_info": {
   "codemirror_mode": {
    "name": "ipython",
    "version": 3
   },
   "file_extension": ".py",
   "mimetype": "text/x-python",
   "name": "python",
   "nbconvert_exporter": "python",
   "pygments_lexer": "ipython3",
   "version": "3.12.3"
  }
 },
 "nbformat": 4,
 "nbformat_minor": 2
}
